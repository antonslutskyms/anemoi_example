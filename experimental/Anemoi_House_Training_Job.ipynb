{
 "cells": [
  {
   "cell_type": "markdown",
   "metadata": {},
   "source": [
    "### Step 1: Setup local configuration\n",
    "\n",
    "Configure workspace and the resource group"
   ]
  },
  {
   "cell_type": "code",
   "execution_count": null,
   "metadata": {},
   "outputs": [],
   "source": [
    "# If needed\n",
    "#!az login\n",
    "!az login --tenant 16b3c013-d300-468d-ac64-7eda0820b6d3"
   ]
  },
  {
   "cell_type": "code",
   "execution_count": null,
   "metadata": {},
   "outputs": [],
   "source": [
    "#!az configure --defaults workspace=<your workspace> group=<your resource group>\n",
    "!az configure --defaults workspace=gpu-workspace-westus2 group=antonslutsky-rg"
   ]
  },
  {
   "cell_type": "markdown",
   "metadata": {},
   "source": [
    "### Step 2: Start the training job"
   ]
  },
  {
   "cell_type": "code",
   "execution_count": null,
   "metadata": {},
   "outputs": [],
   "source": [
    "%%writefile anemoi_training_job.yaml\n",
    "$schema: https://azuremlschemas.azureedge.net/latest/commandJob.schema.json\n",
    "\n",
    "code: ./src\n",
    "command: >-\n",
    "  echo ${{inputs.data}} ${{outputs.output_dir}}; ./training_driver.sh ${{inputs.data}} ${{outputs.output_dir}}\n",
    "environment: azureml:anemoihouse:16\n",
    "resources:\n",
    "  instance_count: 1\n",
    "inputs:\n",
    "  data: \n",
    "    type: uri_folder\n",
    "    mode: ro_mount\n",
    "    path: azureml:azureml_great_iron_rzt62jgp3b_output_data_data:1\n",
    "outputs:\n",
    "  output_dir: \n",
    "    type: uri_folder\n",
    "    mode: upload\n",
    "\n",
    "distribution:\n",
    "  type: pytorch\n",
    "  process_count_per_instance: 2\n",
    "services:\n",
    "    my_vs_code:\n",
    "      type: vs_code\n",
    "    my_jupyter_lab:\n",
    "      type: jupyter_lab\n",
    "compute: azureml:Standard-NC80adis-H100-v5\n",
    "display_name: anemoihouse\n",
    "experiment_name: anemoihouse\n",
    "description: anemoihouse\n"
   ]
  },
  {
   "cell_type": "code",
   "execution_count": null,
   "metadata": {},
   "outputs": [],
   "source": [
    "!az ml job create -f anemoi_training_job.yaml"
   ]
  }
 ],
 "metadata": {
  "kernelspec": {
   "display_name": "many_models",
   "language": "python",
   "name": "python3"
  },
  "language_info": {
   "codemirror_mode": {
    "name": "ipython",
    "version": 3
   },
   "file_extension": ".py",
   "mimetype": "text/x-python",
   "name": "python",
   "nbconvert_exporter": "python",
   "pygments_lexer": "ipython3",
   "version": "3.7.6"
  }
 },
 "nbformat": 4,
 "nbformat_minor": 2
}
