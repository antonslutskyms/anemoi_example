{
 "cells": [
  {
   "cell_type": "markdown",
   "metadata": {},
   "source": [
    "### Step 1: Setup local configuration\n",
    "\n",
    "Configure workspace and the resource group"
   ]
  },
  {
   "cell_type": "code",
   "execution_count": null,
   "metadata": {},
   "outputs": [],
   "source": [
    "# If needed\n",
    "#!az login"
   ]
  },
  {
   "cell_type": "code",
   "execution_count": null,
   "metadata": {},
   "outputs": [],
   "source": [
    "#!az configure --defaults workspace=<your workspace> group=<your resource group>"
   ]
  },
  {
   "cell_type": "markdown",
   "metadata": {},
   "source": [
    "### Step 2: Start the training job"
   ]
  },
  {
   "cell_type": "code",
   "execution_count": null,
   "metadata": {},
   "outputs": [],
   "source": [
    "%%writefile anemoi_training_job.yaml\n",
    "$schema: https://azuremlschemas.azureedge.net/latest/commandJob.schema.json\n",
    "\n",
    "# the 'code' directory must be set up by the user separately \n",
    "code: ./replay/atmosphere-subsampled/p0/training\n",
    "command: >-\n",
    "  echo ${{inputs.data}} ${{outputs.output_dir}}; ./submit_training_aml.sh ${{inputs.data}} ${{outputs.output_dir}};\n",
    "environment: azureml:anemoihouse@latest \n",
    "resources:\n",
    "  instance_count: 1\n",
    "inputs:\n",
    "  data: \n",
    "    type: uri_folder\n",
    "    mode: ro_mount\n",
    "    path: azureml:azureml_great_iron_rzt62jgp3b_output_data_data:1\n",
    "outputs:\n",
    "  output_dir: \n",
    "    type: uri_folder\n",
    "    mode: upload\n",
    "\n",
    "distribution:\n",
    "  type: mpi\n",
    "  process_count_per_instance: 2\n",
    "services:\n",
    "    my_vs_code:\n",
    "      type: vs_code\n",
    "    my_jupyter_lab:\n",
    "      type: jupyter_lab\n",
    "compute: azureml:Standard-NC80adis-H100-v5\n",
    "display_name: anemoihouse\n",
    "experiment_name: anemoihouse\n",
    "description: anemoihouse\n"
   ]
  },
  {
   "cell_type": "code",
   "execution_count": null,
   "metadata": {},
   "outputs": [],
   "source": [
    "!az ml job create -f ufs_training_job.yaml"
   ]
  },
  {
   "cell_type": "code",
   "execution_count": null,
   "metadata": {},
   "outputs": [],
   "source": [
    "./submit_training_aml.sh"
   ]
  }
 ],
 "metadata": {
  "kernelspec": {
   "display_name": "many_models",
   "language": "python",
   "name": "python3"
  },
  "language_info": {
   "codemirror_mode": {
    "name": "ipython",
    "version": 3
   },
   "file_extension": ".py",
   "mimetype": "text/x-python",
   "name": "python",
   "nbconvert_exporter": "python",
   "pygments_lexer": "ipython3",
   "version": "3.7.6"
  }
 },
 "nbformat": 4,
 "nbformat_minor": 2
}
