{
 "cells": [
  {
   "cell_type": "code",
   "execution_count": null,
   "metadata": {},
   "outputs": [
    {
     "name": "stdout",
     "output_type": "stream",
     "text": [
      "Copied submit_training_aml.sh to ./src/anemoi-house/replay/atmosphere-subsampled/p0/training\n"
     ]
    }
   ],
   "source": [
    "# Step 1: Copy submission script to default location\n",
    "# Clone the anemoi-house repository into ./src before running for security:\n",
    "# git clone https://github.com/NOAA-PSL/anemoi-house ./src\n",
    "# Cloning ensures only vetted code is executed.\n",
    "!bash ./copy_submit_training.sh"
   ]
  },
  {
   "cell_type": "markdown",
   "metadata": {},
   "source": [
    "Clone the [anemoi-house](https://github.com/NOAA-PSL/anemoi-house) repository into the `./src` folder before running the script. This ensures the code is retrieved from a trusted source for security."
   ]
  },
  {
   "cell_type": "markdown",
   "metadata": {},
   "source": [
    "### Step 2: Setup local configuration\n",
    "\n",
    "Configure workspace and the resource group"
   ]
  },
  {
   "cell_type": "markdown",
   "metadata": {},
   "source": [
    "Login if necessary:"
   ]
  },
  {
   "cell_type": "code",
   "execution_count": null,
   "metadata": {},
   "outputs": [],
   "source": [
    "#!az login"
   ]
  },
  {
   "cell_type": "markdown",
   "metadata": {},
   "source": [
    "This command uses the Azure CLI to authenticate with Azure. Because it starts with `#!`, it is commented out to avoid automatic execution when running the notebook. Remove the `#` if you want to log in from within the notebook. Authentication is required before any workspace operations can succeed."
   ]
  },
  {
   "cell_type": "markdown",
   "metadata": {},
   "source": [
    "Set your default Workspace and Resource Group:"
   ]
  },
  {
   "cell_type": "code",
   "execution_count": null,
   "metadata": {},
   "outputs": [],
   "source": [
    "!az configure --defaults workspace=<workspace name> group=<resource group name>"
   ]
  },
  {
   "cell_type": "markdown",
   "metadata": {},
   "source": [
    "The command sets your default Azure ML workspace and resource group. After running it, subsequent CLI commands will implicitly target these defaults, so you do not need to pass the workspace or group every time. Replace the placeholders with the actual names used in your Azure subscription."
   ]
  },
  {
   "cell_type": "markdown",
   "metadata": {},
   "source": [
    "### Step 3: Create AML environment to capture Anemoi python dependencies"
   ]
  },
  {
   "cell_type": "markdown",
   "metadata": {},
   "source": [
    "#### Generate environment configuration yaml"
   ]
  },
  {
   "cell_type": "code",
   "execution_count": null,
   "metadata": {},
   "outputs": [],
   "source": [
    "%%writefile anemoihouse_env.yaml\n",
    "$schema: https://azuremlschemas.azureedge.net/latest/environment.schema.json\n",
    "name: anemoihouse\n",
    "build:\n",
    "  path: environment"
   ]
  },
  {
   "cell_type": "markdown",
   "metadata": {},
   "source": [
    "This cell writes the YAML configuration for the custom Azure ML environment. The file references the `environment` directory containing the Dockerfile and dependency list. Creating this file is the first step toward registering a reproducible environment for training."
   ]
  },
  {
   "cell_type": "markdown",
   "metadata": {},
   "source": [
    "#### Create the environment using CLI"
   ]
  },
  {
   "cell_type": "code",
   "execution_count": null,
   "metadata": {},
   "outputs": [],
   "source": [
    "!az ml environment create --file anemoihouse_env.yaml"
   ]
  },
  {
   "cell_type": "markdown",
   "metadata": {},
   "source": [
    "With the environment YAML on disk, this command registers the environment in Azure ML. It ensures that the Docker image and conda dependencies described earlier are available for subsequent jobs."
   ]
  },
  {
   "cell_type": "markdown",
   "metadata": {},
   "source": [
    "### Step 4: Start the training job"
   ]
  },
  {
   "cell_type": "code",
   "execution_count": null,
   "metadata": {},
   "outputs": [],
   "source": [
    "%%writefile anemoi_training_job.yaml\n",
    "$schema: https://azuremlschemas.azureedge.net/latest/commandJob.schema.json\n",
    "code: ./replay/atmosphere-subsampled/p0/training\n",
    "command: >-\n",
    "  echo ${{inputs.data}} ${{outputs.output_dir}}; ./submit_training_aml.sh ${{inputs.data}} ${{outputs.output_dir}};\n",
    "environment: azureml:anemoihouse@latest \n",
    "resources:\n",
    "  instance_count: <number of VMs in a cluster(e.g.: 1,2,3,...)>\n",
    "inputs:\n",
    "  data: \n",
    "    type: uri_folder\n",
    "    mode: ro_mount\n",
    "    path: azureml:<AzureML data asset name>:<data asset version>\n",
    "outputs:\n",
    "  output_dir: \n",
    "    type: uri_folder\n",
    "    mode: upload\n",
    "\n",
    "distribution:\n",
    "  type: mpi\n",
    "  process_count_per_instance: <number of GPUs/VM>\n",
    "services:\n",
    "    my_vs_code:\n",
    "      type: vs_code\n",
    "    my_jupyter_lab:\n",
    "      type: jupyter_lab\n",
    "compute: azureml:<cluster name>\n",
    "display_name: anemoitraining\n",
    "experiment_name: anemoi\n",
    "description: anemoi training job\n"
   ]
  },
  {
   "cell_type": "markdown",
   "metadata": {},
   "source": [
    "Here we create the YAML specification for the training job. It defines input data, output paths, the environment to use, compute resources, and services like VS Code. Fill in the placeholders to match your dataset, cluster, and GPU configuration before submitting the job."
   ]
  },
  {
   "cell_type": "code",
   "execution_count": null,
   "metadata": {},
   "outputs": [],
   "source": [
    "!az ml job create -f anemoi_training_job.yaml"
   ]
  },
  {
   "cell_type": "markdown",
   "metadata": {},
   "source": [
    "This final command submits the job definition to Azure ML. Azure ML will schedule the run on the specified compute cluster using the environment and parameters described in the previous cells."
   ]
  }
 ],
 "metadata": {
  "kernelspec": {
   "display_name": "many_models",
   "language": "python",
   "name": "python3"
  },
  "language_info": {
   "codemirror_mode": {
    "name": "ipython",
    "version": 3
   },
   "file_extension": ".py",
   "mimetype": "text/x-python",
   "name": "python",
   "nbconvert_exporter": "python",
   "pygments_lexer": "ipython3",
   "version": "3.7.6"
  }
 },
 "nbformat": 4,
 "nbformat_minor": 2
}
