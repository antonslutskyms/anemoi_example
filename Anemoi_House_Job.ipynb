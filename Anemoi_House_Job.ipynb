{
 "cells": [
  {
   "cell_type": "markdown",
   "metadata": {},
   "source": [
    "### Step 1: Setup local configuration\n",
    "\n",
    "Configure workspace and the resource group"
   ]
  },
  {
   "cell_type": "markdown",
   "metadata": {},
   "source": [
    "Login if necessary:"
   ]
  },
  {
   "cell_type": "code",
   "execution_count": null,
   "metadata": {},
   "outputs": [],
   "source": [
    "#!az login"
   ]
  },
  {
   "cell_type": "markdown",
   "metadata": {},
   "source": [
    "Set your default Workspace and Resource Group:"
   ]
  },
  {
   "cell_type": "code",
   "execution_count": null,
   "metadata": {},
   "outputs": [],
   "source": [
    "!az configure --defaults workspace=<workspace name> group=<resource group name>"
   ]
  },
  {
   "cell_type": "markdown",
   "metadata": {},
   "source": [
    "### Step 2: Create AML environment to capture Graph UFS python dependencies"
   ]
  },
  {
   "cell_type": "markdown",
   "metadata": {},
   "source": [
    "#### Generate environment configuration yaml"
   ]
  },
  {
   "cell_type": "code",
   "execution_count": null,
   "metadata": {},
   "outputs": [],
   "source": [
    "%%writefile anemoihouse_env.yaml\n",
    "$schema: https://azuremlschemas.azureedge.net/latest/environment.schema.json\n",
    "name: anemoihouse\n",
    "build:\n",
    "  path: environment"
   ]
  },
  {
   "cell_type": "markdown",
   "metadata": {},
   "source": [
    "#### Create the environment using CLI"
   ]
  },
  {
   "cell_type": "code",
   "execution_count": null,
   "metadata": {},
   "outputs": [],
   "source": [
    "!az ml environment create --file anemoihouse_env.yaml"
   ]
  },
  {
   "cell_type": "markdown",
   "metadata": {},
   "source": [
    "### Step 3: Start the training job"
   ]
  },
  {
   "cell_type": "code",
   "execution_count": null,
   "metadata": {},
   "outputs": [],
   "source": [
    "%%writefile anemoi_training_job.yaml\n",
    "$schema: https://azuremlschemas.azureedge.net/latest/commandJob.schema.json\n",
    "code: ./replay/atmosphere-subsampled/p0/training\n",
    "command: >-\n",
    "  echo ${{inputs.data}} ${{outputs.output_dir}}; ./submit_training_aml.sh ${{inputs.data}} ${{outputs.output_dir}};\n",
    "environment: azureml:anemoihouse@latest \n",
    "resources:\n",
    "  instance_count: <number of VMs in a cluster(e.g.: 1,2,3,...)>\n",
    "inputs:\n",
    "  data: \n",
    "    type: uri_folder\n",
    "    mode: ro_mount\n",
    "    path: azureml:<AzureML data asset name>:<data asset version>\n",
    "outputs:\n",
    "  output_dir: \n",
    "    type: uri_folder\n",
    "    mode: upload\n",
    "\n",
    "distribution:\n",
    "  type: mpi\n",
    "  process_count_per_instance: <number of GPUs/VM>\n",
    "services:\n",
    "    my_vs_code:\n",
    "      type: vs_code\n",
    "    my_jupyter_lab:\n",
    "      type: jupyter_lab\n",
    "compute: azureml:<cluster name>\n",
    "display_name: anemoitraining\n",
    "experiment_name: anemoi\n",
    "description: anemoi training job\n"
   ]
  },
  {
   "cell_type": "code",
   "execution_count": null,
   "metadata": {},
   "outputs": [],
   "source": [
    "!az ml job create -f anemoi_training_job.yaml"
   ]
  }
 ],
 "metadata": {
  "kernelspec": {
   "display_name": "many_models",
   "language": "python",
   "name": "python3"
  },
  "language_info": {
   "codemirror_mode": {
    "name": "ipython",
    "version": 3
   },
   "file_extension": ".py",
   "mimetype": "text/x-python",
   "name": "python",
   "nbconvert_exporter": "python",
   "pygments_lexer": "ipython3",
   "version": "3.7.6"
  }
 },
 "nbformat": 4,
 "nbformat_minor": 2
}
