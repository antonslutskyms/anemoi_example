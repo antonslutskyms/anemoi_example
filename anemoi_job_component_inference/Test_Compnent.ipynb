{
 "cells": [
  {
   "cell_type": "markdown",
   "metadata": {},
   "source": [
    "# Overview"
   ]
  },
  {
   "cell_type": "markdown",
   "metadata": {},
   "source": [
    "This notebook is the driver to run Anemoi inference as AML job."
   ]
  },
  {
   "cell_type": "markdown",
   "metadata": {},
   "source": [
    "## Step 1: Configure local environment"
   ]
  },
  {
   "cell_type": "code",
   "execution_count": null,
   "metadata": {},
   "outputs": [],
   "source": [
    "!az configure --defaults workspace=<your workspace> group=<your Azure resource group>"
   ]
  },
  {
   "cell_type": "markdown",
   "metadata": {},
   "source": [
    "## Step 2: Create Anemoi Inference AML Environment"
   ]
  },
  {
   "cell_type": "code",
   "execution_count": 1,
   "metadata": {},
   "outputs": [
    {
     "name": "stdout",
     "output_type": "stream",
     "text": [
      "Writing anemoi_inference_env.yaml\n"
     ]
    }
   ],
   "source": [
    "%%writefile anemoi_inference_env.yaml\n",
    "$schema: https://azuremlschemas.azureedge.net/latest/environment.schema.json\n",
    "name: anemoi_inference\n",
    "build:\n",
    "  path: ./environment"
   ]
  },
  {
   "cell_type": "code",
   "execution_count": null,
   "metadata": {},
   "outputs": [],
   "source": [
    "!az ml environment create --file anemoi_inference_env.yaml"
   ]
  },
  {
   "cell_type": "markdown",
   "metadata": {},
   "source": [
    "## Step 3: Submit the job to AML"
   ]
  },
  {
   "cell_type": "code",
   "execution_count": 2,
   "metadata": {},
   "outputs": [
    {
     "name": "stdout",
     "output_type": "stream",
     "text": [
      "Overwriting anemoi_job_inference.yaml\n"
     ]
    }
   ],
   "source": [
    "%%writefile anemoi_job_inference.yaml\n",
    "$schema: https://azuremlschemas.azureedge.net/latest/commandJob.schema.json\n",
    "code: ./src\n",
    "command: >-\n",
    "  python ./anemoi_job_inference.py ${{inputs.model_name}} ${{inputs.input_data}} ${{outputs.output_dir}}\n",
    "inputs:\n",
    "  model_name: ecmwf/aifs-single-0.2.1\n",
    "  input_data: \n",
    "    type: uri_folder\n",
    "    mode: ro_mount\n",
    "    path: azureml://subscriptions/<your subsription>/resourcegroups/<your resource group>/workspaces/graphcast-workspace/datastores/workspaceblobstore/paths/azureml/<job name>/output_dir/\n",
    "outputs:\n",
    "  output_dir:\n",
    "    type: uri_folder\n",
    "    mode: rw_mount\n",
    "services:\n",
    "    my_vs_code:\n",
    "      type: vs_code\n",
    "      nodes: all \n",
    "    my_jupyter_lab:\n",
    "      type: jupyter_lab\n",
    "      nodes: all\n",
    "compute: azureml:Standard-NC24ads-A100-v4\n",
    "display_name: anemoi_job_inference\n",
    "environment: azureml:anemoi_inference@latest\n",
    "description: Anemoi_Job_Inference"
   ]
  },
  {
   "cell_type": "code",
   "execution_count": null,
   "metadata": {},
   "outputs": [],
   "source": [
    "!az ml job create -f anemoi_job_inference.yaml"
   ]
  }
 ],
 "metadata": {
  "kernelspec": {
   "display_name": "many_models",
   "language": "python",
   "name": "python3"
  },
  "language_info": {
   "codemirror_mode": {
    "name": "ipython",
    "version": 3
   },
   "file_extension": ".py",
   "mimetype": "text/x-python",
   "name": "python",
   "nbconvert_exporter": "python",
   "pygments_lexer": "ipython3",
   "version": "3.7.6"
  }
 },
 "nbformat": 4,
 "nbformat_minor": 2
}
